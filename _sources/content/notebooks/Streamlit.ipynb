{
 "cells": [
  {
   "cell_type": "markdown",
   "metadata": {},
   "source": [
    "### StreamLit Code"
   ]
  },
  {
   "cell_type": "code",
   "execution_count": null,
   "metadata": {},
   "outputs": [],
   "source": [
    "import streamlit as st\n",
    "import requests\n",
    "\n",
    "# Define the FastAPI endpoint\n",
    "API_ENDPOINT = \"http://127.0.0.1:8000/predict\"\n",
    "#API_ENDPOINT = \"http://192.168.65.1:8000/predict\"\n",
    "# Streamlit app title\n",
    "st.title(\"Ridge Classifier Model - Real-Time Prediction\")\n",
    "\n",
    "# User input form\n",
    "st.header(\"Enter the Features for Classification\")\n",
    "annual_income = st.number_input(\"Annual Income ($)\", min_value=0.0, step=1000.0)\n",
    "family_size = st.number_input(\"Family Size\", min_value=0, step=1)\n",
    "age = st.number_input(\"Age\", min_value=0.0, step=1.0)\n",
    "work_experience = st.number_input(\"Work Experience (Years)\", min_value=0.0, step=1.0)\n",
    "\n",
    "# Predict button\n",
    "if st.button(\"Predict\"):\n",
    "    # Input validation\n",
    "    if annual_income <= 0 or family_size < 0 or age <= 0 or work_experience < 0:\n",
    "        st.error(\"Please ensure all inputs are valid and greater than zero.\")\n",
    "    else:\n",
    "        # Perform feature engineering\n",
    "        income_per_family = annual_income / (family_size + 1)\n",
    "        age_experience_interaction = float(age * work_experience)\n",
    "\n",
    "        # Prepare data for API\n",
    "        payload = {\n",
    "            \"Annual_Income\": annual_income,\n",
    "            \"Family_Size\": family_size,\n",
    "            \"Age\": age,\n",
    "            \"Work_Experience\": work_experience,\n",
    "            \"Income_Per_Family\": income_per_family,\n",
    "            \"Age_Experience_Interaction\": age_experience_interaction\n",
    "        }\n",
    "\n",
    "        # Send request to FastAPI\n",
    "        try:\n",
    "            response = requests.post(API_ENDPOINT, json=payload)\n",
    "            response_data = response.json()\n",
    "\n",
    "            # Display prediction result\n",
    "            if response.status_code == 200:\n",
    "                #prediction = response_data[\"prediction\"]\n",
    "                st.success(f\"The predicted class is: {response_data}\")\n",
    "            else:\n",
    "                st.error(f\"Error: {response_data.get('detail', 'Unknown error')}\")\n",
    "        except requests.exceptions.RequestException as e:\n",
    "            st.error(f\"Error connecting to the API: {e}\")"
   ]
  }
 ],
 "metadata": {
  "language_info": {
   "name": "python"
  }
 },
 "nbformat": 4,
 "nbformat_minor": 2
}
